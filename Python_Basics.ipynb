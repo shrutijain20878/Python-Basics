{
  "nbformat": 4,
  "nbformat_minor": 0,
  "metadata": {
    "colab": {
      "provenance": []
    },
    "kernelspec": {
      "name": "python3",
      "display_name": "Python 3"
    },
    "language_info": {
      "name": "python"
    }
  },
  "cells": [
    {
      "cell_type": "code",
      "execution_count": null,
      "metadata": {
        "id": "gjBYdkCrSuYh"
      },
      "outputs": [],
      "source": []
    },
    {
      "cell_type": "markdown",
      "source": [
        "# Python Basics-- Theory"
      ],
      "metadata": {
        "id": "v17mx316S15K"
      }
    },
    {
      "cell_type": "markdown",
      "source": [
        "**1.What is Python, and why is it popular**\n",
        "  \n",
        "  Python is programming language which is easy to understand and write making it more popular choice among developers. It is versatile, high-level, interpreted language with various programming paradigms like procedural, object-oriented and functional programming.\n",
        "\n",
        "  Python is popular as it has large and active community of developers, an extensive standard libraries and third party packages for various domains.\n",
        "\n"
      ],
      "metadata": {
        "id": "iLfrGe06TQht"
      }
    },
    {
      "cell_type": "markdown",
      "source": [
        "**2.What is an interpreter in Python**\n",
        "   \n",
        "   In Python, interpreter is program that reads and execute code line by line. It converts the code into machine readable bytecode and then execute the bytecode as a result we can see result immediately while compile languages convert whole code into machine code before execution."
      ],
      "metadata": {
        "id": "oZ8T6uCmVAw5"
      }
    },
    {
      "cell_type": "markdown",
      "source": [
        "**3.What are pre-defined keywords in Python**\n",
        "\n",
        "Keywords are the reserved words in python which conveys special meaning and cannot be used as identifiers like for variable names, function names, etc.\n",
        "Keywords are case-sensitive and cannot be redefine or override within a program.\n",
        "\n",
        "Keywords are if, else, while, for, def, class, import, try, except, return, True, False, None, etc."
      ],
      "metadata": {
        "id": "fOHCSjeOWOc_"
      }
    },
    {
      "cell_type": "markdown",
      "source": [
        "4.**Can keywords be used as variable names**\n",
        "\n",
        "No, Keywords cannot be used as variable names as keywords has its own special meaning and they are case sensitive and cannot be redefine or override within a program."
      ],
      "metadata": {
        "id": "fAlNT5iXXZRx"
      }
    },
    {
      "cell_type": "markdown",
      "source": [
        "5.**What is mutability in Python**\n",
        "\n",
        "In Python, if objects has the ablity to get modified after creation then it is called mutability(changable). Mutablity affects how objects are stored and manipulated in memory, impacting performance, memory usage, and concurrency in python program.\n",
        "\n",
        "Some mutable objects are list, dictionary, etc."
      ],
      "metadata": {
        "id": "U7hn03gIYQ-Q"
      }
    },
    {
      "cell_type": "markdown",
      "source": [
        "6.**Why are lists mutable, but tuples are immutable**\n",
        "\n",
        "list can be changed after its creation so its mutable object and tuples cannot be changed after its creation but list consumes more memory than tuples due to which tuple retrieves element faster than list."
      ],
      "metadata": {
        "id": "2E_BqYlmZlol"
      }
    },
    {
      "cell_type": "markdown",
      "source": [
        "7.**What is the difference between “==” and “is” operators in Python**\n",
        "\n",
        "The == and is operators in Python are both used for comparison, but they check for different things:\n",
        "\n",
        "\n",
        "* == (Equality Operator)\n",
        "\n",
        "Purpose: Checks if the values of two objects are equal.\n",
        "\n",
        "Focus: Compares the content or data held by the objects.\n",
        "\n",
        "Example:\n",
        "a = [1, 2, 3]\n",
        "b = [1, 2, 3]\n",
        "print(a == b)  # Output: True (because the lists have the same elements)\n",
        "\n",
        "* is (Identity Operator)\n",
        "\n",
        "Purpose: Checks if two variables refer to the same object in memory.\n",
        "\n",
        "Focus: Compares the memory addresses of the objects.\n",
        "\n",
        "Example:\n",
        "a = [1, 2, 3]\n",
        "b = a\n",
        "print(a is b)  # Output: True (because b is referencing the same list object as a)"
      ],
      "metadata": {
        "id": "1G2g7_5bcvfl"
      }
    },
    {
      "cell_type": "markdown",
      "source": [
        "8.**What are logical operators in Python**\n",
        "\n",
        "Logical operators in Python are used to combine or modify conditional statements. They operate on boolean values (True or False) and return a boolean result. There are three main logical operators in Python:\n",
        "\n",
        "\n",
        "\n",
        "* and: Returns True if both conditions are true, otherwise returns\n",
        "\n",
        "  x = 5\n",
        "\n",
        "  print(x > 0 and x < 10) # Output: True\n",
        "\n",
        "  print(x > 0 and x > 10) # Output: False\n",
        "\n",
        "* or: Returns True if at least one of the conditions is true, otherwise returns False.\n",
        "\n",
        " x = 5\n",
        "\n",
        " print(x > 0 or x < 0) # Output: True\n",
        "\n",
        " print(x < 0 or x > 10) # Output: False\n",
        "\n",
        "* not: Returns the opposite boolean value of the condition. If the condition is true, it returns False, and if the condition is False, it returns True.\n",
        "\n",
        "   x = 5\n",
        "\n",
        "   print(not(x > 0)) # Output: False\n",
        "\n",
        "   print(not(x < 0)) # Output: True\n",
        "\n",
        "\n"
      ],
      "metadata": {
        "id": "l6m5KtB7fCij"
      }
    },
    {
      "cell_type": "markdown",
      "source": [
        "9. **What is type casting in Python**\n",
        "\n",
        "Type casting, also known as type conversion, is the process of changing a variable's data type to another. This is often done to perform operations that require specific data types or to ensure compatibility between different data types.\n",
        "There are two main types of type casting in Python:\n",
        "1. Implicit Type Casting (Automatic Conversion):\n",
        "\n",
        "    Python automatically converts certain data types in specific situations.\n",
        "\n",
        "    Example: When adding an integer and a float, Python implicitly converts the integer to a float before performing the addition.\n",
        "2. Explicit Type Casting (Manual Conversion):\n",
        "\n",
        "   This is when you explicitly use built-in functions to convert a value from one data type to another.\n",
        "\n",
        "   **Common functions include:**\n",
        "\n",
        "   int(): Converts a value to an integer.\n",
        "\n",
        "   float(): Converts a value to a float.\n",
        "\n",
        "   str(): Converts a value to a string.\n",
        "\n",
        "   bool(): Converts a value to a boolean.\n",
        "\n",
        "   Example:\n",
        "\n",
        "     x = 5\n",
        "\n",
        "     y = float(x) # y is now 5.0\n",
        "\n",
        "     z = \"10\"\n",
        "\n",
        "     a = int(z) # a is now 10"
      ],
      "metadata": {
        "id": "UIsByFamhGFg"
      }
    },
    {
      "cell_type": "markdown",
      "source": [
        "10.**What is the difference between implicit and explicit type casting**\n",
        "\n",
        "* Implicit type casting, also known as widening or upcasting, is automatically performed by the compiler when a smaller data type is converted to a larger one.\n",
        "\n",
        "   Example: When adding an integer and a float, Python implicitly converts the integer to a float before performing the addition.\n",
        "\n",
        "* Explicit type casting, also known as narrowing or downcasting, requires the programmer to explicitly convert a larger data type to a smaller one, often involving the risk of data loss.\n",
        "\n",
        "   **Common functions include:**\n",
        "\n",
        "   int(): Converts a value to an integer.\n",
        "\n",
        "   float(): Converts a value to a float.\n",
        "\n",
        "   str(): Converts a value to a string.\n",
        "\n",
        "   bool(): Converts a value to a boolean.\n",
        "\n",
        "   Example:\n",
        "\n",
        "     x = 5\n",
        "     y = float(x) # y is now 5.0\n",
        "     z = \"10\"\n",
        "     a = int(z) # a is now 10"
      ],
      "metadata": {
        "id": "pPcoXAAJiIY1"
      }
    },
    {
      "cell_type": "markdown",
      "source": [
        "11.**What is the purpose of conditional statements in Python**\n",
        "\n",
        "Conditional statements in Python (like if, elif, and else) control the flow of execution, allowing different code blocks to be executed based on whether a condition is true or false. They enable decision-making in programs, making them more flexible and capable of handling various scenarios."
      ],
      "metadata": {
        "id": "id13tGk6j1oE"
      }
    },
    {
      "cell_type": "markdown",
      "source": [
        "12.**How does the elif statement work**\n",
        "\n",
        "In Python, the elif statement, short for \"else if,\" is used to check multiple conditions sequentially. It's part of a conditional structure that starts with an if statement, followed by zero or more elif statements, and optionally ends with an else statement."
      ],
      "metadata": {
        "id": "vD7sSW1NkQHI"
      }
    },
    {
      "cell_type": "markdown",
      "source": [
        "13.**What is the difference between for and while loops**\n",
        "\n",
        "The key differences between for and while loops in Python are:\n",
        "\n",
        "For loop:\n",
        "* Iterates over a sequence (like a list, tuple, string, or range) or other iterable objects.\n",
        "* The number of iterations is usually known in advance.\n",
        "* Automatically takes on the next value in the sequence on each iteration.\n",
        "* Typically used when you have a collection of items and want to process each one.\n",
        "* Generally faster than while loops when iterating over sequences due to the use of iterators.\n",
        "\n",
        "Example:\n",
        "for i in range(1,5):\n",
        "  print(i, end=\",\") # output= 1,2,3,4\n",
        "\n",
        "While loop:\n",
        "* Repeats a block of code as long as a specified condition is true.\n",
        "* The number of iterations is not always known in advance.\n",
        "* Requires manual updating of the loop variable to ensure the condition eventually becomes false.\n",
        "* Used when you need to repeat a block of code until a specific condition is met.\n",
        "* More flexible for complex control flow situations.\n",
        "\n",
        "Example:\n",
        "i=1\n",
        "while(i<5):\n",
        "  print(i, end=\",\")\n",
        "  i=i+1   # output= 1,2,3,4"
      ],
      "metadata": {
        "id": "UIchyXeHkya7"
      }
    },
    {
      "cell_type": "markdown",
      "source": [
        "14.**Describe a scenario where a while loop is more suitable than a for loop**\n",
        "\n",
        "A while loop is more suitable than a for loop when you don't know ahead of time how many times you'll need to iterate.\n",
        "\n",
        "for example, asking user input valid number repeated until valid number is provided by the user.\n",
        "\n",
        "user_input = \"\"\n",
        "\n",
        "while not valid(user_input):\n",
        "\n",
        "user_input = input(\"Enter a number between 1 and 10: \")"
      ],
      "metadata": {
        "id": "A2kIYjpTmSCa"
      }
    },
    {
      "cell_type": "markdown",
      "source": [
        "# Python Basics - Practical"
      ],
      "metadata": {
        "id": "vcjbcnJ0nZsQ"
      }
    },
    {
      "cell_type": "code",
      "source": [
        "#1 Write a Python program to print \"Hello, World!\"\n",
        "print(\"Hello, World!\")"
      ],
      "metadata": {
        "colab": {
          "base_uri": "https://localhost:8080/"
        },
        "id": "pxAKe18kTO8z",
        "outputId": "475b7cc5-1f7d-4b79-aa8f-eeaf2f487075"
      },
      "execution_count": 2,
      "outputs": [
        {
          "output_type": "stream",
          "name": "stdout",
          "text": [
            "Hello, World!\n"
          ]
        }
      ]
    },
    {
      "cell_type": "code",
      "source": [
        "# 2. Write a Python program that displays your name and age\n",
        "name = input(\"Enter your name\")\n",
        "age = int(input(\"Enter your age\"))\n",
        "print(f\"My name is {name}\")\n",
        "print(f\"My age is {age}\")"
      ],
      "metadata": {
        "colab": {
          "base_uri": "https://localhost:8080/"
        },
        "id": "79tTzvfSnrqL",
        "outputId": "a000be66-7980-45a8-d06d-200150c7aa18"
      },
      "execution_count": 3,
      "outputs": [
        {
          "output_type": "stream",
          "name": "stdout",
          "text": [
            "Enter your name Shruti Jain\n",
            "Enter your age 23\n",
            "My name is  Shruti Jain\n",
            "My age is 23\n"
          ]
        }
      ]
    },
    {
      "cell_type": "code",
      "source": [
        "# 3. Write code to print all the pre-defined keywords in Python using the keyword library\n",
        "# 1st method\n",
        "import keyword\n",
        "for kw in keyword.kwlist:\n",
        "    print(kw)\n",
        "## 2nd method\n",
        "print(help('keywords'))"
      ],
      "metadata": {
        "colab": {
          "base_uri": "https://localhost:8080/"
        },
        "id": "rYgLtRgZoQS9",
        "outputId": "6827b995-759a-4b48-e2d1-198200487eef"
      },
      "execution_count": 7,
      "outputs": [
        {
          "output_type": "stream",
          "name": "stdout",
          "text": [
            "False\n",
            "None\n",
            "True\n",
            "and\n",
            "as\n",
            "assert\n",
            "async\n",
            "await\n",
            "break\n",
            "class\n",
            "continue\n",
            "def\n",
            "del\n",
            "elif\n",
            "else\n",
            "except\n",
            "finally\n",
            "for\n",
            "from\n",
            "global\n",
            "if\n",
            "import\n",
            "in\n",
            "is\n",
            "lambda\n",
            "nonlocal\n",
            "not\n",
            "or\n",
            "pass\n",
            "raise\n",
            "return\n",
            "try\n",
            "while\n",
            "with\n",
            "yield\n",
            "\n",
            "Here is a list of the Python keywords.  Enter any keyword to get more help.\n",
            "\n",
            "False               class               from                or\n",
            "None                continue            global              pass\n",
            "True                def                 if                  raise\n",
            "and                 del                 import              return\n",
            "as                  elif                in                  try\n",
            "assert              else                is                  while\n",
            "async               except              lambda              with\n",
            "await               finally             nonlocal            yield\n",
            "break               for                 not                 \n",
            "\n",
            "None\n"
          ]
        }
      ]
    },
    {
      "cell_type": "code",
      "source": [
        "# 4. Write a program that checks if a given word is a Python keyword.\n",
        "import keyword\n",
        "word = input(\"Enter a word-\")\n",
        "if keyword.iskeyword(word)==True:\n",
        "    print(f\"{word} is a Python keyword.\")\n",
        "else:\n",
        "    print(f\"{word} is not a Python keyword.\")\n"
      ],
      "metadata": {
        "colab": {
          "base_uri": "https://localhost:8080/"
        },
        "id": "vczJJdLZoffy",
        "outputId": "e9e06c3f-ba8c-42ec-b342-432d9219f9b1"
      },
      "execution_count": 10,
      "outputs": [
        {
          "output_type": "stream",
          "name": "stdout",
          "text": [
            "Enter a word-break\n",
            "break is a Python keyword.\n"
          ]
        }
      ]
    },
    {
      "cell_type": "code",
      "source": [
        "# 5.  Create a list and tuple in Python, and demonstrate how attempting to change an element works differently for each.\n",
        "my_list  = [10, 20, 30]\n",
        "my_tuple = (10, 20, 30)\n",
        "\n",
        "# Attempt to change the second element\n",
        "my_list[1] = 99\n",
        "print(\"List after mutation:\", my_list)\n",
        "\n",
        "try:\n",
        "    my_tuple[1] = 99\n",
        "except TypeError as e:\n",
        "    print(\"Tuple mutation error:\", e)"
      ],
      "metadata": {
        "colab": {
          "base_uri": "https://localhost:8080/"
        },
        "id": "DqnJs96Ap3Tm",
        "outputId": "61df7c74-2e73-4b0a-e60f-4992d89d7958"
      },
      "execution_count": 11,
      "outputs": [
        {
          "output_type": "stream",
          "name": "stdout",
          "text": [
            "List after mutation: [10, 99, 30]\n",
            "Tuple mutation error: 'tuple' object does not support item assignment\n"
          ]
        }
      ]
    },
    {
      "cell_type": "code",
      "source": [
        "# 6. Write a function to demonstrate the behavior of mutable and immutable arguments\n",
        "def modify_list(lst):\n",
        "    lst.append(99)\n",
        "    print(\"After modify_list, id(lst):\", id(lst))\n",
        "\n",
        "def modify_int(x):\n",
        "    x += 10\n",
        "    print(\"After modify_int, id(x):\", id(x))\n",
        "\n",
        "my_list = [1, 2, 3]\n",
        "my_num  = 7\n",
        "\n",
        "print(\"Before call, my_list:\", my_list, \"id:\", id(my_list))\n",
        "modify_list(my_list)\n",
        "print(\"After modify_list, my_list:\", my_list)\n",
        "\n",
        "print(\"Before call, my_num:\", my_num, \"id:\", id(my_num))\n",
        "modify_int(my_num)\n",
        "print(\"After modify_int, my_num:\", my_num)\n"
      ],
      "metadata": {
        "colab": {
          "base_uri": "https://localhost:8080/"
        },
        "id": "hvaFItNoqZbg",
        "outputId": "7979d841-5978-4e16-f056-fcbd7b8eb583"
      },
      "execution_count": 13,
      "outputs": [
        {
          "output_type": "stream",
          "name": "stdout",
          "text": [
            "Before call, my_list: [1, 2, 3] id: 132320567304320\n",
            "After modify_list, id(lst): 132320567304320\n",
            "After modify_list, my_list: [1, 2, 3, 99]\n",
            "Before call, my_num: 7 id: 10757928\n",
            "After modify_int, id(x): 10758248\n",
            "After modify_int, my_num: 7\n"
          ]
        }
      ]
    },
    {
      "cell_type": "code",
      "source": [
        "# 7. Write a program that performs basic arithmetic operations on two user-input numbers.\n",
        "num1 = float(input(\"Enter first number: \"))\n",
        "num2 = float(input(\"Enter second number: \"))\n",
        "print(f\"{num1} + {num2} = {num1 + num2}\")\n",
        "print(f\"{num1} - {num2} = {num1 - num2}\")\n",
        "print(f\"{num1} * {num2} = {num1 * num2}\")\n",
        "print(f\"{num1} ** {num2} = {num1 ** num2}\")\n",
        "if num2 != 0:\n",
        "  print(f\"{num1} / {num2} = {num1 / num2}\")\n",
        "  print(f\"{num1} // {num2} = {num1 // num2}\")\n",
        "  print(f\"{num1} % {num2} = {num1 % num2}\")"
      ],
      "metadata": {
        "colab": {
          "base_uri": "https://localhost:8080/"
        },
        "id": "AuSnvrEKqyzU",
        "outputId": "723674bf-35df-4d26-d590-0c7de08ddbf0"
      },
      "execution_count": 16,
      "outputs": [
        {
          "output_type": "stream",
          "name": "stdout",
          "text": [
            "Enter first number: 52\n",
            "Enter second number: 2\n",
            "52.0 + 2.0 = 54.0\n",
            "52.0 - 2.0 = 50.0\n",
            "52.0 * 2.0 = 104.0\n",
            "52.0 ** 2.0 = 2704.0\n",
            "52.0 / 2.0 = 26.0\n",
            "52.0 // 2.0 = 26.0\n",
            "52.0 % 2.0 = 0.0\n"
          ]
        }
      ]
    },
    {
      "cell_type": "code",
      "source": [
        "# 8. Write a program to demonstrate the use of logical operators.\n",
        "x=5\n",
        "y=-3\n",
        "if x > 0 and y > 0:\n",
        "  print(\"Both x and y are positive.\")\n",
        "elif x > 0 or y > 0:\n",
        "  print(\"At least one of x or y is positive.\")\n",
        "else:\n",
        "  print(\"Neither x nor y is positive.\")\n",
        "\n",
        "if not (x > y):\n",
        "        print(f\"It's not true that x ({x}) is greater than y ({y}).\")\n"
      ],
      "metadata": {
        "colab": {
          "base_uri": "https://localhost:8080/"
        },
        "id": "Sfde-l1TsHiH",
        "outputId": "c0e63c7f-4912-4d67-bc97-4b9f5c8d4598"
      },
      "execution_count": 17,
      "outputs": [
        {
          "output_type": "stream",
          "name": "stdout",
          "text": [
            "At least one of x or y is positive.\n"
          ]
        }
      ]
    },
    {
      "cell_type": "code",
      "source": [
        "# 9.  Write a Python program to convert user input from string to integer, float, and boolean types\n",
        "s = input(\"Enter something: \")\n",
        "i = int(s)\n",
        "print(f\"As int:   {i} (type: {type(i).__name__})\")\n",
        "f = float(s)\n",
        "print(f\"As float: {f} (type: {type(f).__name__})\")\n",
        "b = bool(s)\n",
        "print(f\"As bool:  {b} (type: {type(b).__name__})\")"
      ],
      "metadata": {
        "colab": {
          "base_uri": "https://localhost:8080/"
        },
        "id": "46YRncs4tKB8",
        "outputId": "826710d3-b43e-406d-88eb-15d934d8c767"
      },
      "execution_count": 21,
      "outputs": [
        {
          "output_type": "stream",
          "name": "stdout",
          "text": [
            "Enter something: 10\n",
            "As int:   10 (type: int)\n",
            "As float: 10.0 (type: float)\n",
            "As bool:  True (type: bool)\n"
          ]
        }
      ]
    },
    {
      "cell_type": "code",
      "source": [
        "# 10. Write code to demonstrate type casting with list elements.\n",
        "str_list = [\"1\", \"2\", \"3\", \"4.5\"]\n",
        "float_list = [float(x) for x in str_list]\n",
        "print(float_list)\n",
        "print([type(i) for i in float_list])"
      ],
      "metadata": {
        "colab": {
          "base_uri": "https://localhost:8080/"
        },
        "id": "KRqg3hIpt-Kf",
        "outputId": "721d7113-d5fc-44f8-b741-19a548af256f"
      },
      "execution_count": 22,
      "outputs": [
        {
          "output_type": "stream",
          "name": "stdout",
          "text": [
            "[1.0, 2.0, 3.0, 4.5]\n",
            "[<class 'float'>, <class 'float'>, <class 'float'>, <class 'float'>]\n"
          ]
        }
      ]
    },
    {
      "cell_type": "code",
      "source": [
        "# 11.  Write a program that checks if a number is positive, negative, or zero\n",
        "num= int(input(\"Enter a number-\"))\n",
        "if (num>0):\n",
        "  print(\"number is positive\")\n",
        "elif (num<0):\n",
        "  print(\"number is negative\")\n",
        "else:\n",
        "  print(\"number is zero\")"
      ],
      "metadata": {
        "colab": {
          "base_uri": "https://localhost:8080/"
        },
        "id": "-8bLHQFDvFjT",
        "outputId": "941051a3-dab7-404e-d5be-dfd067c2841d"
      },
      "execution_count": 24,
      "outputs": [
        {
          "output_type": "stream",
          "name": "stdout",
          "text": [
            "Enter a number-6\n",
            "number is positive\n"
          ]
        }
      ]
    },
    {
      "cell_type": "code",
      "source": [
        "# 12. Write a for loop to print numbers from 1 to 10.\n",
        "for i in range(1, 11):\n",
        "  print(i, end=\",\")"
      ],
      "metadata": {
        "colab": {
          "base_uri": "https://localhost:8080/"
        },
        "id": "5rGs77kpvo7X",
        "outputId": "420fc610-fc7a-4053-c7ec-2de7018020f2"
      },
      "execution_count": 25,
      "outputs": [
        {
          "output_type": "stream",
          "name": "stdout",
          "text": [
            "1,2,3,4,5,6,7,8,9,10,"
          ]
        }
      ]
    },
    {
      "cell_type": "code",
      "source": [
        "# 13.  Write a Python program to find the sum of all even numbers between 1 and 50.\n",
        "s=0\n",
        "for i in range(1,51):\n",
        "  if(i%2==0):\n",
        "    s=s+i\n",
        "print(s)"
      ],
      "metadata": {
        "colab": {
          "base_uri": "https://localhost:8080/"
        },
        "id": "uwpcLgaNv1cD",
        "outputId": "1f063605-bd64-4d78-f472-9208ddb2f009"
      },
      "execution_count": 26,
      "outputs": [
        {
          "output_type": "stream",
          "name": "stdout",
          "text": [
            "650\n"
          ]
        }
      ]
    },
    {
      "cell_type": "code",
      "source": [
        "# 14. Write a program to reverse a string using a while loop.\n",
        "s=\"shruti\"\n",
        "i=len(s)-1\n",
        "while(i>=0):\n",
        "  print(s[i], end=\"\")\n",
        "  i-=1"
      ],
      "metadata": {
        "colab": {
          "base_uri": "https://localhost:8080/"
        },
        "id": "zTI1CCBxwGwN",
        "outputId": "1d46065a-3ef4-459a-b5de-52229fca0911"
      },
      "execution_count": 29,
      "outputs": [
        {
          "output_type": "stream",
          "name": "stdout",
          "text": [
            "iturhs"
          ]
        }
      ]
    },
    {
      "cell_type": "code",
      "source": [
        "# 15. Write a Python program to calculate the factorial of a number provided by the user using a while loop.\n",
        "num=int(input(\"Enter a number: \"))\n",
        "f=1\n",
        "i=num\n",
        "if i==0 or i==1:\n",
        "  print(\"1\")\n",
        "else:\n",
        "  while(i>0):\n",
        "    f=f*i\n",
        "    i=i-1\n",
        "print(f)"
      ],
      "metadata": {
        "colab": {
          "base_uri": "https://localhost:8080/"
        },
        "id": "d9JppedUwcmv",
        "outputId": "d1be2893-ab8a-4bda-9f6b-16fddcb22ca7"
      },
      "execution_count": 33,
      "outputs": [
        {
          "output_type": "stream",
          "name": "stdout",
          "text": [
            "Enter a number: 5\n",
            "120\n"
          ]
        }
      ]
    },
    {
      "cell_type": "code",
      "source": [],
      "metadata": {
        "id": "upzUPgjFw_6J"
      },
      "execution_count": 33,
      "outputs": []
    }
  ]
}